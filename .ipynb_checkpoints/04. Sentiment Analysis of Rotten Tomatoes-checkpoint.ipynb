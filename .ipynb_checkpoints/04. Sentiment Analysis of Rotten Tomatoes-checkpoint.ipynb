{
 "cells": [
  {
   "cell_type": "markdown",
   "metadata": {},
   "source": [
    "# 04. Sentiment Analysis of Rotten Tomatoes"
   ]
  },
  {
   "cell_type": "markdown",
   "metadata": {},
   "source": [
    "<div class=\"banner-container\">\n",
    "<img src=\"http://content7.flixster.com/movie/11/16/81/11168101_det.jpg\" width=180>\n",
    "</div>\n",
    "\n",
    "<div class=\"banner-container\">\n",
    "<img src=\"http://content6.flixster.com/movie/11/15/15/11151508_det.jpg\" width=180>\n",
    "</div>\n",
    "\n",
    "<div class=\"banner-container\">\n",
    "<img src=\"http://content9.flixster.com/movie/11/16/61/11166199_det.jpg\" width=180>\n",
    "</div>\n",
    "\n",
    "<div class=\"clear\"> </div>\n",
    "\n",
    "<style type=\"text/css\">\n",
    ".banner-container {\n",
    "height:350px;\n",
    "margin-left: 30px;\n",
    "float:left;\n",
    "}\n",
    ".clear {\n",
    "clear:both;\n",
    "}\n",
    "</style>"
   ]
  },
  {
   "cell_type": "markdown",
   "metadata": {},
   "source": [
    "You'll be analyzing movie reviews from [Rotten Tomatoes](http://www.rottentomatoes.com). \n",
    "\n",
    " * Working with web APIs\n",
    " * Making and interpreting predictions from a Bayesian perspective\n",
    " * Using the Naive Bayes algorithm to predict whether a movie review is positive or negative\n",
    " * Using cross validation to optimize models\n",
    "\n",
    "Useful libraries for this assignment\n",
    "\n",
    "* [numpy](http://docs.scipy.org/doc/numpy-dev/user/index.html), for arrays\n",
    "* [scikit-learn](http://scikit-learn.org/stable/), for machine learning\n",
    "* [json](http://docs.python.org/2/library/json.html) for parsing JSON data from the web.\n",
    "* [pandas](http://pandas.pydata.org/), for data frames\n",
    "* [matplotlib](http://matplotlib.org/), for plotting\n",
    "* [requests](http://docs.python-requests.org/en/latest/), for downloading web content"
   ]
  },
  {
   "cell_type": "code",
   "execution_count": 3,
   "metadata": {},
   "outputs": [],
   "source": [
    "%matplotlib inline\n",
    "\n",
    "import json\n",
    "\n",
    "import requests\n",
    "import pandas as pd\n",
    "import numpy as np\n",
    "import matplotlib.pyplot as plt\n",
    "import bs4 #this is beautiful soup\n",
    "from selenium import webdriver\n",
    "from selenium.webdriver.common.by import By\n",
    "from selenium.webdriver.support.ui import WebDriverWait\n",
    "from selenium.webdriver.support import expected_conditions as EC\n",
    "\n",
    "from time import sleep\n",
    "from difflib import get_close_matches \n",
    "from cycler import cycler\n",
    "\n",
    "pd.set_option('display.width', 500)\n",
    "pd.set_option('display.max_columns', 30)\n",
    "\n",
    "# set some nicer defaults for matplotlib\n",
    "from matplotlib import rcParams\n",
    "\n",
    "#these colors come from colorbrewer2.org. Each is an RGB triplet\n",
    "dark2_colors = [(0.10588235294117647, 0.6196078431372549, 0.4666666666666667),\n",
    "                (0.8509803921568627, 0.37254901960784315, 0.00784313725490196),\n",
    "                (0.4588235294117647, 0.4392156862745098, 0.7019607843137254),\n",
    "                (0.9058823529411765, 0.1607843137254902, 0.5411764705882353),\n",
    "                (0.4, 0.6509803921568628, 0.11764705882352941),\n",
    "                (0.9019607843137255, 0.6705882352941176, 0.00784313725490196),\n",
    "                (0.6509803921568628, 0.4627450980392157, 0.11372549019607843),\n",
    "                (0.4, 0.4, 0.4)]\n",
    "\n",
    "rcParams['figure.figsize'] = (10, 6)\n",
    "rcParams['figure.dpi'] = 150\n",
    "rcParams['axes.prop_cycle'] = cycler('color', dark2_colors)\n",
    "rcParams['lines.linewidth'] = 2\n",
    "rcParams['axes.grid'] = False\n",
    "rcParams['axes.facecolor'] = 'white'\n",
    "rcParams['font.size'] = 14\n",
    "rcParams['patch.edgecolor'] = 'none'\n",
    "\n",
    "\n",
    "def remove_border(axes=None, top=False, right=False, left=True, bottom=True):\n",
    "    \"\"\"\n",
    "    Minimize chartjunk by stripping out unnecessary plot borders and axis ticks\n",
    "    \n",
    "    The top/right/left/bottom keywords toggle whether the corresponding plot border is drawn\n",
    "    \"\"\"\n",
    "    ax = axes or plt.gca()\n",
    "    ax.spines['top'].set_visible(top)\n",
    "    ax.spines['right'].set_visible(right)\n",
    "    ax.spines['left'].set_visible(left)\n",
    "    ax.spines['bottom'].set_visible(bottom)\n",
    "    \n",
    "    #turn off all ticks\n",
    "    ax.yaxis.set_ticks_position('none')\n",
    "    ax.xaxis.set_ticks_position('none')\n",
    "    \n",
    "    #now re-enable visibles\n",
    "    if top:\n",
    "        ax.xaxis.tick_top()\n",
    "    if bottom:\n",
    "        ax.xaxis.tick_bottom()\n",
    "    if left:\n",
    "        ax.yaxis.tick_left()\n",
    "    if right:\n",
    "        ax.yaxis.tick_right()"
   ]
  },
  {
   "cell_type": "markdown",
   "metadata": {},
   "source": [
    "## Introduction\n",
    "\n",
    "Rotten Tomatoes gathers movie reviews from critics. An [entry on the website](http://www.rottentomatoes.com/m/primer/reviews/?type=top_critics) typically consists of a short quote, a link to the full review, and a Fresh/Rotten classification which summarizes whether the critic liked/disliked the movie.\n",
    "\n",
    "\n",
    "When critics give quantitative ratings (say 3/4 stars, Thumbs up, etc.), determining the Fresh/Rotten classification is easy. However, publications like the New York Times don't assign numerical ratings to movies, and thus the Fresh/Rotten classification must be inferred from the text of the review itself.\n",
    "\n",
    "This basic task of categorizing text has many applications. All of the following questions boil down to text classification:\n",
    "\n",
    " * Is a movie review positive or negative?\n",
    " * Is an email spam, or not?\n",
    " * Is a comment on a blog discussion board appropriate, or not?\n",
    " * Is a tweet about your company positive, or not?\n",
    " \n",
    "\n",
    "Language is incredibly nuanced, and there is an entire field of computer science dedicated to the topic (Natural Language Processing). Nevertheless, we can construct basic language models using fairly straightforward techniques. \n",
    "\n",
    "## The Data\n",
    "\n",
    "You will be starting with a database of Movies, derived from the MovieLens dataset. This dataset includes information for about 10,000 movies, including the IMDB id for each movie. \n",
    "\n",
    "Your first task is to download Rotten Tomatoes reviews from 3000 of these movies, using the Rotten Tomatoes API (Application Programming Interface)."
   ]
  },
  {
   "cell_type": "markdown",
   "metadata": {},
   "source": [
    "### Working with Web APIs\n",
    "Web APIs are a more convenient way for programs to interact with websites. Rotten Tomatoes has a nice API that gives access to its data in JSON format.\n",
    "\n",
    "To use this, you will first need to [register for an API key](http://developer.rottentomatoes.com/member/register). For \"application URL\", you can use anything -- it doesn't matter.\n",
    "\n",
    "After you have a key, the [documentation page](http://developer.rottentomatoes.com/iodocs) shows the various data you can fetch from Rotten Tomatoes -- each type of data lives at a different web address. The basic pattern for fetching this data with Python is as follows (compare this to the `Movie Reviews` tab on the documentation page):"
   ]
  },
  {
   "cell_type": "code",
   "execution_count": 19,
   "metadata": {},
   "outputs": [],
   "source": [
    "#If you have an API Access to RottenTomatos you can use the below code\n",
    "\n",
    "'''api_key = 'PUT YOUR KEY HERE'\n",
    "movie_id = '770672122'  # toy story 3\n",
    "url = 'http://api.rottentomatoes.com/api/public/v1.0/movies/%s/reviews.json' % movie_id\n",
    "\n",
    "#these are \"get parameters\"\n",
    "options = {'review_type': 'top_critic', 'page_limit': 20, 'page': 1, 'apikey': api_key}\n",
    "data = requests.get(url, params=options).text\n",
    "data = json.loads(data)  # load a json string into a collection of lists and dicts\n",
    "\n",
    "print json.dumps(data['reviews'][0], indent=2)  # dump an object into a json string'''\n",
    "\n",
    "#If you have an API Access to RottenTomatos you can use the below code\n",
    "a = 0"
   ]
  },
  {
   "cell_type": "code",
   "execution_count": 3,
   "metadata": {},
   "outputs": [],
   "source": [
    "driver = webdriver.Chrome('C:/Users/amare/Downloads/chromedriver')"
   ]
  },
  {
   "cell_type": "code",
   "execution_count": 2,
   "metadata": {},
   "outputs": [],
   "source": [
    "def getReviewUrl(title, year):\n",
    "    url = 'https://www.rottentomatoes.com/search'\n",
    "    driver.get(url+\"?search=\"+title.replace(\" \", \"%20\"))\n",
    "    element = WebDriverWait(driver, 5).until(EC.presence_of_element_located((By.CLASS_NAME, \"search__results-movies\")))\n",
    "    moviesContent = driver.find_element_by_class_name(\"search__results-movies\")\n",
    "    for movie in moviesContent.find_elements_by_tag_name(\"li\"):\n",
    "        movieSection = movie.find_element_by_class_name(\"search__results-item-info-top\")\n",
    "        title_p = movieSection.find_element_by_tag_name('a').text\n",
    "        year_p = movieSection.find_element_by_tag_name('span').text\n",
    "        matchedTitle = get_close_matches(title_p.lower().strip(), [title.lower()])\n",
    "        if(len(matchedTitle)>0 and matchedTitle[0] == title.lower()):\n",
    "            url = movieSection.find_element_by_tag_name('a').get_attribute('href')\n",
    "            return url+'/reviews?type=top_critics'"
   ]
  },
  {
   "cell_type": "markdown",
   "metadata": {},
   "source": [
    "## Part 1: Get the data\n",
    "Here's a chunk of the MovieLens Dataset:"
   ]
  },
  {
   "cell_type": "code",
   "execution_count": 3,
   "metadata": {},
   "outputs": [
    {
     "data": {
      "text/plain": [
       "9423"
      ]
     },
     "execution_count": 3,
     "metadata": {},
     "output_type": "execute_result"
    }
   ],
   "source": [
    "from io import StringIO  \n",
    "movie_txt = requests.get('https://raw.github.com/cs109/cs109_data/master/movies.dat').text\n",
    "movie_file = StringIO(movie_txt) # treat a string like a file\n",
    "movies = pd.read_csv(movie_file, delimiter='\\t')\n",
    "\n",
    "#print the first row\n",
    "len(movies)"
   ]
  },
  {
   "cell_type": "markdown",
   "metadata": {},
   "source": [
    "#### P1.1\n",
    "\n",
    "We'd like you to write a function that looks up the first 20 Top Critic Rotten Tomatoes reviews for a movie in the `movies` dataframe. This involves two steps:\n",
    "\n",
    "1. Use the `Movie Alias` API to look up the Rotten Tomatoes movie id from the IMDB id\n",
    "1. Use the `Movie Reviews` API to fetch the first 20 top-critic reviews for this movie\n",
    "\n",
    "Not all movies have Rotten Tomatoes IDs. In these cases, your function should return `None`. The detailed spec is below. We are giving you some freedom with how you implement this, but you'll probably want to break this task up into several small functions.\n",
    "\n",
    "**Hint**\n",
    "In some situations, the leading 0s in front of IMDB ids are important. IMDB ids have 7 digits"
   ]
  },
  {
   "cell_type": "code",
   "execution_count": 4,
   "metadata": {},
   "outputs": [],
   "source": [
    "\"\"\"\n",
    "Function\n",
    "--------\n",
    "fetch_reviews(movies, row)\n",
    "\n",
    "Use the Rotten Tomatoes web API to fetch reviews for a particular movie\n",
    "\n",
    "Parameters\n",
    "----------\n",
    "movies : DataFrame \n",
    "  The movies data above\n",
    "row : int\n",
    "  The row of the movies DataFrame to use\n",
    "  \n",
    "Returns\n",
    "-------\n",
    "If you can match the IMDB id to a Rotten Tomatoes ID:\n",
    "  A DataFrame, containing the first 20 Top Critic reviews \n",
    "  for the movie. If a movie has less than 20 total reviews, return them all.\n",
    "  This should have the following columns:\n",
    "    critic : Name of the critic\n",
    "    fresh  : 'fresh' or 'rotten'\n",
    "    imdb   : IMDB id for the movie\n",
    "    publication: Publication that the critic writes for\n",
    "    quote  : string containing the movie review quote\n",
    "    review_data: Date of review\n",
    "    rtid   : Rotten Tomatoes ID for the movie\n",
    "    title  : Name of the movie\n",
    "    \n",
    "If you cannot match the IMDB id to a Rotten Tomatoes ID, return None\n",
    "\n",
    "Examples\n",
    "--------\n",
    ">>> reviews = fetch_reviews(movies, 0)\n",
    ">>> print len(reviews)\n",
    "20\n",
    ">>> print reviews.irow(1)\n",
    "critic                                               Derek Adams\n",
    "fresh                                                      fresh\n",
    "imdb                                                      114709\n",
    "publication                                             Time Out\n",
    "quote          So ingenious in concept, design and execution ...\n",
    "review_date                                           2009-10-04\n",
    "rtid                                                        9559\n",
    "title                                                  Toy story\n",
    "Name: 1, dtype: object\n",
    "\"\"\"\n",
    "def fetch_reviews(movies, row, url):\n",
    "    title = movies.iloc[row]['title']\n",
    "    year = movies.iloc[row]['year']\n",
    "    url+='/reviews?type=top_critics'\n",
    "    driver.get(url)\n",
    "    element = WebDriverWait(driver, 5).until(EC.presence_of_element_located((By.CLASS_NAME, \"row.review_table_row\")))\n",
    "    reviews = pd.DataFrame(columns=['critic', 'fresh', 'imdb', 'publication', 'quote', 'review_date', 'rtid', 'title'])\n",
    "    for review in driver.find_elements_by_class_name(\"row.review_table_row\"):\n",
    "        element = review.find_element_by_xpath('div/div[3]')\n",
    "        findAt = 2\n",
    "        try:\n",
    "            critic = element.find_element_by_class_name(\"unstyled.bold.articleLink\").text\n",
    "        except:\n",
    "            critic = None\n",
    "            findAt = 1\n",
    "        try:\n",
    "            publication = element.find_element_by_xpath(\"a[%d]\"%findAt).text\n",
    "        except:\n",
    "            publication = None\n",
    "        fresh = review.find_element_by_xpath('div[2]/div').get_attribute(\"class\").split(\" \")[-1]\n",
    "        imdb = movies.iloc[row]['imdbID']\n",
    "        title = title\n",
    "        rtid = row\n",
    "        try:\n",
    "            review_date = review.find_element_by_class_name('review-date.subtle.small').text\n",
    "        except:\n",
    "            review_date = None\n",
    "        try:\n",
    "            quote = review.find_element_by_class_name('the_review').text\n",
    "        except:\n",
    "            quote = None\n",
    "        reviews.loc[len(reviews)] = [critic, fresh, imdb, publication, quote, review_date, rtid, title]\n",
    "    reviews['review_date'] = pd.to_datetime(reviews['review_date'], format='%B %d, %Y')\n",
    "    return reviews"
   ]
  },
  {
   "cell_type": "markdown",
   "metadata": {},
   "source": [
    "#### P1.2\n",
    "\n",
    "Use the function you wrote to retrieve reviews for the first 3,000 movies in the movies dataframe.\n",
    "\n",
    "##### Hints\n",
    "* Rotten Tomatoes limits you to **10,000 API requests a day**. Be careful about this limit! Test your code on smaller inputs before scaling. You are responsible if you hit the limit the day the assignment is due :)\n",
    "* This will take a while to download. If you don't want to re-run this function every time you restart the notebook, you can save and re-load this data as a CSV file. However, please don't submit this file"
   ]
  },
  {
   "cell_type": "code",
   "execution_count": 5,
   "metadata": {},
   "outputs": [],
   "source": [
    "\"\"\"\n",
    "Function\n",
    "--------\n",
    "build_table\n",
    "\n",
    "Parameters\n",
    "----------\n",
    "movies : DataFrame\n",
    "  The movies data above\n",
    "rows : int\n",
    "  The number of rows to extract reviews for\n",
    "  \n",
    "Returns\n",
    "--------\n",
    "A dataframe\n",
    "  The data obtained by repeatedly calling `fetch_reviews` on the first `rows`\n",
    "  of `movies`, discarding the `None`s,\n",
    "  and concatenating the results into a single DataFrame\n",
    "\"\"\"\n",
    "\n",
    "def build_table(movies, rows):\n",
    "    reviews = pd.DataFrame(columns=['critic', 'fresh', 'imdb', 'publication', 'quote', 'review_date', 'rtid', 'title'])\n",
    "    failed = []\n",
    "    for i in rows:\n",
    "        try:\n",
    "            reviews = pd.concat([reviews, fetch_reviews(movies, i[0], i[1])])\n",
    "            print(i[0], '/', len(rows))\n",
    "        except:\n",
    "            failed.append(i[0])\n",
    "            print(i[0], '/', len(rows), \" Failed\")\n",
    "    return reviews.reset_index(drop = True), failed"
   ]
  },
  {
   "cell_type": "code",
   "execution_count": 6,
   "metadata": {
    "scrolled": true
   },
   "outputs": [],
   "source": [
    "#you can toggle which lines are commented, if you\n",
    "#want to re-load your results to avoid repeatedly calling this function\n",
    "\n",
    "#critics, failed = build_table(movies, 3000)\n",
    "#critics.to_csv('critics.csv', index=False)\n",
    "critics = pd.read_csv('critics.csv')\n",
    "\n",
    "\n",
    "#for this assignment, let's drop rows with missing data\n",
    "critics = critics[~critics.quote.isnull()]"
   ]
  },
  {
   "cell_type": "code",
   "execution_count": 7,
   "metadata": {},
   "outputs": [],
   "source": [
    "critics = critics[critics.quote.str.len() > 0]"
   ]
  },
  {
   "cell_type": "code",
   "execution_count": 8,
   "metadata": {},
   "outputs": [],
   "source": [
    "critics.reset_index(drop = True, inplace = True)"
   ]
  },
  {
   "cell_type": "code",
   "execution_count": 9,
   "metadata": {},
   "outputs": [],
   "source": [
    "def reviewCheck(movies, rows):\n",
    "    failed = []\n",
    "    for row in rows:\n",
    "        title = movies.iloc[row]['title']\n",
    "        year = movies.iloc[row]['year']\n",
    "        try:\n",
    "            url = getReviewUrl(title, year)\n",
    "        except:\n",
    "            continue\n",
    "        try:\n",
    "            driver.get(url)\n",
    "        except:\n",
    "            failed.append(row)\n",
    "    return failed"
   ]
  },
  {
   "cell_type": "code",
   "execution_count": 24,
   "metadata": {},
   "outputs": [],
   "source": [
    "failed = reviewCheck(movies, failed2)"
   ]
  },
  {
   "cell_type": "markdown",
   "metadata": {},
   "source": [
    "A quick sanity check that everything looks ok at this point"
   ]
  },
  {
   "cell_type": "code",
   "execution_count": 10,
   "metadata": {},
   "outputs": [],
   "source": [
    "assert set(critics.columns) == set('critic fresh imdb publication '\n",
    "                                   'quote review_date rtid title'.split())\n",
    "assert len(critics) > 10000"
   ]
  },
  {
   "cell_type": "code",
   "execution_count": 14,
   "metadata": {},
   "outputs": [],
   "source": [
    "driver.close()"
   ]
  },
  {
   "cell_type": "markdown",
   "metadata": {},
   "source": [
    "## Part 2: Explore\n",
    "\n",
    "Before delving into analysis, get a sense of what these data look like. Answer the following questions. Include your code!"
   ]
  },
  {
   "cell_type": "code",
   "execution_count": 11,
   "metadata": {},
   "outputs": [
    {
     "data": {
      "text/plain": [
       "20509"
      ]
     },
     "execution_count": 11,
     "metadata": {},
     "output_type": "execute_result"
    }
   ],
   "source": [
    "len(critics)"
   ]
  },
  {
   "cell_type": "markdown",
   "metadata": {},
   "source": [
    "**2.1** How many reviews, critics, and movies are in this dataset?\n"
   ]
  },
  {
   "cell_type": "code",
   "execution_count": 12,
   "metadata": {},
   "outputs": [
    {
     "data": {
      "text/plain": [
       "(20444, 1005, 2436)"
      ]
     },
     "execution_count": 12,
     "metadata": {},
     "output_type": "execute_result"
    }
   ],
   "source": [
    "len(critics['quote'].unique()), len(critics['critic'].unique()), len(critics['title'].unique())"
   ]
  },
  {
   "cell_type": "markdown",
   "metadata": {},
   "source": [
    "**2.2** What does the distribution of number of reviews per reviewer look like? Make a histogram"
   ]
  },
  {
   "cell_type": "code",
   "execution_count": 13,
   "metadata": {
    "scrolled": false
   },
   "outputs": [
    {
     "data": {
      "text/plain": [
       "<matplotlib.legend.Legend at 0x2244a5d5518>"
      ]
     },
     "execution_count": 13,
     "metadata": {},
     "output_type": "execute_result"
    },
    {
     "data": {
      "image/png": "[encoded data removed]",
      "text/plain": [
       "<Figure size 432x288 with 1 Axes>"
      ]
     },
     "metadata": {
      "needs_background": "light"
     },
     "output_type": "display_data"
    }
   ],
   "source": [
    "critic_count = critics[['critic', 'fresh']].groupby('critic').count()\n",
    "a = critic_count.index\n",
    "b = critic_count.fresh.values\n",
    "remove_border(left=False)\n",
    "plt.grid(False)\n",
    "plt.grid(axis='y', color='w', linestyle='-', lw=1)\n",
    "plt.hist(b, bins = np.arange(1, 100), label = 'Critic Count', log = True)\n",
    "plt.xlabel(\"Reviews Per Critic\")\n",
    "plt.ylabel(\"N\")\n",
    "plt.title(\"Critics Count\")\n",
    "plt.legend()"
   ]
  },
  {
   "cell_type": "markdown",
   "metadata": {},
   "source": [
    "**2.3** List the 5 critics with the most reviews, along with the publication they write for"
   ]
  },
  {
   "cell_type": "code",
   "execution_count": 14,
   "metadata": {
    "scrolled": true
   },
   "outputs": [
    {
     "data": {
      "text/html": [
       "<div>\n",
       "<style scoped>\n",
       "    .dataframe tbody tr th:only-of-type {\n",
       "        vertical-align: middle;\n",
       "    }\n",
       "\n",
       "    .dataframe tbody tr th {\n",
       "        vertical-align: top;\n",
       "    }\n",
       "\n",
       "    .dataframe thead th {\n",
       "        text-align: right;\n",
       "    }\n",
       "</style>\n",
       "<table border=\"1\" class=\"dataframe\">\n",
       "  <thead>\n",
       "    <tr style=\"text-align: right;\">\n",
       "      <th></th>\n",
       "      <th>critic</th>\n",
       "      <th>publication</th>\n",
       "    </tr>\n",
       "  </thead>\n",
       "  <tbody>\n",
       "    <tr>\n",
       "      <th>7057</th>\n",
       "      <td>Desson Thomson</td>\n",
       "      <td>Washington Post</td>\n",
       "    </tr>\n",
       "    <tr>\n",
       "      <th>8784</th>\n",
       "      <td>James Berardinelli</td>\n",
       "      <td>ReelViews</td>\n",
       "    </tr>\n",
       "    <tr>\n",
       "      <th>9582</th>\n",
       "      <td>Janet Maslin</td>\n",
       "      <td>New York Times</td>\n",
       "    </tr>\n",
       "    <tr>\n",
       "      <th>14225</th>\n",
       "      <td>Roger Ebert</td>\n",
       "      <td>Chicago Sun-Times</td>\n",
       "    </tr>\n",
       "    <tr>\n",
       "      <th>19283</th>\n",
       "      <td>Variety Staff</td>\n",
       "      <td>Variety</td>\n",
       "    </tr>\n",
       "  </tbody>\n",
       "</table>\n",
       "</div>"
      ],
      "text/plain": [
       "                   critic        publication\n",
       "7057       Desson Thomson    Washington Post\n",
       "8784   James Berardinelli          ReelViews\n",
       "9582         Janet Maslin     New York Times\n",
       "14225         Roger Ebert  Chicago Sun-Times\n",
       "19283       Variety Staff            Variety"
      ]
     },
     "execution_count": 14,
     "metadata": {},
     "output_type": "execute_result"
    }
   ],
   "source": [
    "top_critics = critic_count.sort_values(by = \"fresh\", ascending=False)[:5].index\n",
    "critics[critics['critic'].isin(top_critics)][[\"critic\", \"publication\"]].sort_values(by = \"critic\").drop_duplicates()"
   ]
  },
  {
   "cell_type": "markdown",
   "metadata": {},
   "source": [
    "**2.4** Of the critics with > 100 reviews, plot the distribution of average \"freshness\" rating per critic"
   ]
  },
  {
   "cell_type": "code",
   "execution_count": 15,
   "metadata": {},
   "outputs": [],
   "source": [
    "critics_freshness = critics[['critic', 'fresh']][critics['critic'].isin(critic_count[critic_count['fresh']>100].index)]\n",
    "critics_freshness['fresh'] = [(0, 1) [x] for x in critics_freshness['fresh'] == 'fresh']\n",
    "critics_freshness = critics_freshness.groupby('critic').mean()\n"
   ]
  },
  {
   "cell_type": "code",
   "execution_count": 16,
   "metadata": {},
   "outputs": [
    {
     "data": {
      "text/plain": [
       "<matplotlib.legend.Legend at 0x2244a9164a8>"
      ]
     },
     "execution_count": 16,
     "metadata": {},
     "output_type": "execute_result"
    },
    {
     "data": {
      "image/png": "[encoded data removed]",
      "text/plain": [
       "<Figure size 432x288 with 1 Axes>"
      ]
     },
     "metadata": {
      "needs_background": "light"
     },
     "output_type": "display_data"
    }
   ],
   "source": [
    "remove_border(left=False)\n",
    "plt.grid(False)\n",
    "plt.grid(axis='y', color='w', linestyle='-', lw=1)\n",
    "plt.hist(critics_freshness.fresh.values, label = 'Critic Count')\n",
    "plt.xlabel(\"Average of Critic\")\n",
    "plt.ylabel(\"N\")\n",
    "plt.title(\"Critics Average Count\")\n",
    "plt.legend()"
   ]
  },
  {
   "cell_type": "markdown",
   "metadata": {},
   "source": [
    "**2.5**\n",
    "Using the original `movies` dataframe, plot the rotten tomatoes Top Critics Rating as a function of year. Overplot the average for each year, ignoring the score=0 examples (some of these are missing data). Comment on the result -- is there a trend? What do you think it means?"
   ]
  },
  {
   "cell_type": "code",
   "execution_count": 17,
   "metadata": {},
   "outputs": [],
   "source": [
    "movies = movies.infer_objects()\n",
    "movies['rtTopCriticsRating'] = pd.to_numeric(movies['rtTopCriticsRating'], errors='coerce')"
   ]
  },
  {
   "cell_type": "code",
   "execution_count": 18,
   "metadata": {},
   "outputs": [
    {
     "data": {
      "text/plain": [
       "<matplotlib.legend.Legend at 0x2244a92cf28>"
      ]
     },
     "execution_count": 18,
     "metadata": {},
     "output_type": "execute_result"
    },
    {
     "data": {
      "image/png": "[encoded data removed]",
      "text/plain": [
       "<Figure size 432x288 with 1 Axes>"
      ]
     },
     "metadata": {
      "needs_background": "light"
     },
     "output_type": "display_data"
    }
   ],
   "source": [
    "a = movies[['year', 'rtTopCriticsRating']][~movies[\"rtTopCriticsRating\"].isna() & movies[\"rtTopCriticsRating\"] > 0]\n",
    "b = movies[['year', 'rtTopCriticsRating']][~movies[\"rtTopCriticsRating\"].isna() & movies[\"rtTopCriticsRating\"] > 0].groupby('year').mean()\n",
    "remove_border(left=False)\n",
    "plt.grid(False)\n",
    "plt.plot(a.year, a.rtTopCriticsRating, 'o', alpha = 0.1, label = 'Avg Rating')\n",
    "plt.plot(b.index, b.rtTopCriticsRating, '-', label = 'Avg Rating')\n",
    "plt.xlabel(\"Year\")\n",
    "plt.ylabel(\"Rating\")\n",
    "plt.title(\"Avg Rating\")\n",
    "plt.legend(loc = 'best')"
   ]
  },
  {
   "cell_type": "markdown",
   "metadata": {},
   "source": [
    "*Comments*<br>\n",
    "*As the years passed the number of reviews increasing beacause RT didn't collected the reviews of movies before the website exists*"
   ]
  },
  {
   "cell_type": "markdown",
   "metadata": {},
   "source": [
    "## Part 3: Sentiment Analysis\n",
    "\n",
    "You will now use a [Naive Bayes classifier](https://en.wikipedia.org/wiki/Naive_Bayes_classifier) to build a prediction model for whether a review is fresh or rotten, depending on the text of the review. See Lecture 9 for a discussion of Naive Bayes.\n",
    "\n",
    "Most models work with numerical data, so we need to convert the textual collection of reviews to something numerical. A common strategy for text classification is to represent each review as a \"bag of words\" vector -- a long vector\n",
    "of numbers encoding how many times a particular word appears in a blurb.\n",
    "\n",
    "Scikit-learn has an object called a `CountVectorizer` that turns text into a bag of words. Here's a quick tutorial:"
   ]
  },
  {
   "cell_type": "code",
   "execution_count": 19,
   "metadata": {},
   "outputs": [
    {
     "name": "stdout",
     "output_type": "stream",
     "text": [
      "Original text is\n",
      " Hop's on pop\n",
      "Hop off pop\n",
      "Hop Hop hop\n",
      "Transformed text vector is \n",
      " [[1 0 1 1]\n",
      " [1 1 0 1]\n",
      " [3 0 0 0]]\n",
      "\n",
      "Words for each feature:\n",
      "['hop', 'off', 'on', 'pop']\n"
     ]
    }
   ],
   "source": [
    "from sklearn.feature_extraction.text import CountVectorizer\n",
    "\n",
    "text = [\"Hop's on pop\", 'Hop off pop', 'Hop Hop hop']\n",
    "print(\"Original text is\\n\", '\\n'.join(text))\n",
    "\n",
    "vectorizer = CountVectorizer(min_df=0)\n",
    "\n",
    "# call `fit` to build the vocabulary\n",
    "vectorizer.fit(text)\n",
    "\n",
    "# call `transform` to convert text to a bag of words\n",
    "x = vectorizer.transform(text)\n",
    "\n",
    "# CountVectorizer uses a sparse array to save memory, but it's easier in this assignment to \n",
    "# convert back to a \"normal\" numpy array\n",
    "x = x.toarray()\n",
    "\n",
    "print(\"Transformed text vector is \\n\", x)\n",
    "\n",
    "# `get_feature_names` tracks which word is associated with each column of the transformed x\n",
    "print()\n",
    "print(\"Words for each feature:\")\n",
    "print(vectorizer.get_feature_names())\n",
    "\n",
    "# Notice that the bag of words treatment doesn't preserve information about the *order* of words, \n",
    "# just their frequency"
   ]
  },
  {
   "cell_type": "markdown",
   "metadata": {},
   "source": [
    "**3.1**\n",
    "\n",
    "Using the `critics` dataframe, compute a pair of numerical X, Y arrays where:\n",
    "    \n",
    " * X is a `(nreview, nwords)` array. Each row corresponds to a bag-of-words representation for a single review. This will be the *input* to your model.\n",
    " * Y is a `nreview`-element 1/0 array, encoding whether a review is Fresh (1) or Rotten (0). This is the desired *output* from your model.\n"
   ]
  },
  {
   "cell_type": "code",
   "execution_count": 20,
   "metadata": {},
   "outputs": [],
   "source": [
    "#hint: Consult the scikit-learn documentation to\n",
    "#      learn about what these classes do do\n",
    "from sklearn.model_selection import train_test_split\n",
    "from sklearn.naive_bayes import MultinomialNB\n",
    "\n",
    "\"\"\"\n",
    "Function\n",
    "--------\n",
    "make_xy\n",
    "\n",
    "Build a bag-of-words training set for the review data\n",
    "\n",
    "Parameters\n",
    "-----------\n",
    "critics : Pandas DataFrame\n",
    "    The review data from above\n",
    "    \n",
    "vectorizer : CountVectorizer object (optional)\n",
    "    A CountVectorizer object to use. If None,\n",
    "    then create and fit a new CountVectorizer.\n",
    "    Otherwise, re-fit the provided CountVectorizer\n",
    "    using the critics data\n",
    "    \n",
    "Returns\n",
    "-------\n",
    "X : numpy array (dims: nreview, nwords)\n",
    "    Bag-of-words representation for each review.\n",
    "Y : numpy array (dims: nreview)\n",
    "    1/0 array. 1 = fresh review, 0 = rotten review\n",
    "\n",
    "Examples\n",
    "--------\n",
    "X, Y = make_xy(critics)\n",
    "\"\"\"\n",
    "def make_xy(critics, vectorizer=None):\n",
    "    if(vectorizer == None):\n",
    "        vectorizer = CountVectorizer(min_df=0)\n",
    "    vectorizer.fit(critics['quote'].values)\n",
    "    X = vectorizer.transform(critics['quote'].values)\n",
    "    X = X.toarray()\n",
    "    Y = [(0, 1) [x] for x in critics['fresh'] == 'fresh']\n",
    "    return X, Y"
   ]
  },
  {
   "cell_type": "code",
   "execution_count": 23,
   "metadata": {},
   "outputs": [],
   "source": [
    "X, Y = make_xy(critics)"
   ]
  },
  {
   "cell_type": "markdown",
   "metadata": {},
   "source": [
    "\n",
    "**3.2** Next, randomly split the data into two groups: a\n",
    "training set and a validation set. \n",
    "\n",
    "Use the training set to train a `MultinomialNB` classifier,\n",
    "and print the accuracy of this model on the validation set\n",
    "\n",
    "**Hint**\n",
    "You can use [`train_test_split`](http://scikit-learn.org/stable/modules/generated/sklearn.cross_validation.train_test_split.html) to split up the training data"
   ]
  },
  {
   "cell_type": "code",
   "execution_count": 24,
   "metadata": {},
   "outputs": [
    {
     "data": {
      "text/plain": [
       "MultinomialNB(alpha=1.0, class_prior=None, fit_prior=True)"
      ]
     },
     "execution_count": 24,
     "metadata": {},
     "output_type": "execute_result"
    }
   ],
   "source": [
    "X_train, X_test, Y_train, Y_test = train_test_split(X, Y, test_size = 0.2)\n",
    "classifier = MultinomialNB()\n",
    "classifier.fit(X_train, Y_train)"
   ]
  },
  {
   "cell_type": "code",
   "execution_count": 25,
   "metadata": {},
   "outputs": [
    {
     "name": "stdout",
     "output_type": "stream",
     "text": [
      "Test Accuracy 78.04%\n"
     ]
    }
   ],
   "source": [
    "print(\"Test Accuracy %0.2f%%\" %(classifier.score(X_test, Y_test)*100))"
   ]
  },
  {
   "cell_type": "markdown",
   "metadata": {},
   "source": [
    "**3.3:**\n",
    "\n",
    "We say a model is **overfit** if it performs better on the training data than on the test data. Is this model overfit? If so, how much more accurate is the model on the training data compared to the test data?"
   ]
  },
  {
   "cell_type": "code",
   "execution_count": 31,
   "metadata": {},
   "outputs": [
    {
     "name": "stdout",
     "output_type": "stream",
     "text": [
      "Train Accuracy 90.87%\n"
     ]
    }
   ],
   "source": [
    "# Print the accuracy on the test and training dataset\n",
    "print(\"Train Accuracy %0.2f%%\" %(classifier.score(X_train, Y_train)*100))"
   ]
  },
  {
   "cell_type": "markdown",
   "metadata": {},
   "source": [
    "*Interpret these numbers in a few sentences here* <br>\n",
    "There's a 10% difference in between training and tesing data"
   ]
  },
  {
   "cell_type": "markdown",
   "metadata": {},
   "source": [
    "**3.4: Model Calibration**\n",
    "\n",
    "Bayesian models like the Naive Bayes classifier have the nice property that they compute probabilities of a particular classification -- the `predict_proba` and `predict_log_proba` methods of `MultinomialNB` compute these probabilities. \n",
    "\n",
    "Being the respectable Bayesian that you are, you should always assess whether these probabilities are **calibrated** -- that is, whether a prediction made with a confidence of `x%` is correct approximately `x%` of the time. We care about calibration because it tells us whether we can trust the probabilities computed by a model. If we can trust model probabilities, we can make better decisions using them (for example, we can calculate how much we should bet or invest in a given prediction).\n",
    "\n",
    "Let's make a plot to assess model calibration. Schematically, we want something like this:\n",
    "\n",
    "<img src=\"http://i.imgur.com/ea5B6zr.png\" width=500px>\n",
    "\n",
    "In words, we want to:\n",
    "\n",
    "* Take a collection of examples, and compute the freshness probability for each using `clf.predict_proba`\n",
    "* Gather examples into bins of similar freshness probability (the diagram shows 5 groups -- you should use something closer to 20)\n",
    "* For each bin, count the number of examples in that bin, and compute the fraction of examples in the bin which are fresh\n",
    "* In the upper plot, graph the expected P(Fresh) (x axis) and observed freshness fraction (Y axis). Estimate the uncertainty in observed freshness fraction $F$ via the [equation](http://en.wikipedia.org/wiki/Binomial_proportion_confidence_interval) $\\sigma = \\sqrt{F (1-F) / N}$\n",
    "* Overplot the line y=x. This is the trend we would expect if the model is calibrated\n",
    "* In the lower plot, show the number of examples in each bin\n",
    "\n",
    "**Hints**\n",
    "\n",
    "The output of `clf.predict_proba(X)` is a `(N example, 2)` array. The first column gives the probability $P(Y=0)$ or  $P(Rotten)$, and the second gives $P(Y=1)$ or $P(Fresh)$.\n",
    "\n",
    "The above image is just a guideline -- feel free to explore other options!"
   ]
  },
  {
   "cell_type": "code",
   "execution_count": 32,
   "metadata": {
    "scrolled": false
   },
   "outputs": [],
   "source": [
    "\"\"\"\n",
    "Function\n",
    "--------\n",
    "calibration_plot\n",
    "\n",
    "Builds a plot like the one above, from a classifier and review data\n",
    "\n",
    "Inputs\n",
    "-------\n",
    "clf : Classifier object\n",
    "    A MultinomialNB classifier\n",
    "X : (Nexample, Nfeature) array\n",
    "    The bag-of-words data\n",
    "Y : (Nexample) integer array\n",
    "    1 if a review is Fresh\n",
    "\"\"\"    \n",
    "def calibration_plot(clf, X, Y):\n",
    "    probs = clf.predict_proba(X)\n",
    "    probs = np.array(probs)[:,1]\n",
    "    df = pd.DataFrame({\"probs\": probs, \"count\": Y})\n",
    "    bins = np.linspace(0, 1, 20)\n",
    "    pFresh = df['probs'].groupby(pd.cut(df[\"probs\"], bins).apply(lambda x:x.right)).count()\n",
    "    cFresh = df['count'].groupby(pd.cut(df[\"probs\"], bins).apply(lambda x:x.right)).sum()\n",
    "    pFresh = pFresh.sort_index()\n",
    "    cFresh = cFresh.sort_index()\n",
    "    fractions = cFresh.values/pFresh.values\n",
    "    remove_border(left=False)\n",
    "    plt.grid(False)\n",
    "    plt.plot(list(cFresh.index), fractions, '^-', label = 'Probability vs Fraction')\n",
    "    plt.plot(np.arange(0, 1.05, 0.1), np.arange(0, 1.05, 0.1), '--', label = 'Probability vs Fraction')\n",
    "    plt.xlabel(\"Probability of freshness\")\n",
    "    plt.ylabel(\"Fraction of review to be FRESH\")\n",
    "    plt.show()\n",
    "    plt.bar(list(pFresh.index), pFresh.values, label = 'Probability freshness Count', width=.90 * (bins[1] - bins[0]))\n",
    "    plt.xlabel(\"Probability of freshness\")\n",
    "    plt.ylabel(\"Count of reviews with certain probability\")\n",
    "    plt.show()"
   ]
  },
  {
   "cell_type": "code",
   "execution_count": 33,
   "metadata": {},
   "outputs": [
    {
     "data": {
      "image/png": "[encoded data removed]",
      "text/plain": [
       "<Figure size 432x288 with 1 Axes>"
      ]
     },
     "metadata": {
      "needs_background": "light"
     },
     "output_type": "display_data"
    },
    {
     "data": {
      "image/png": "[encoded data removed]",
      "text/plain": [
       "<Figure size 432x288 with 1 Axes>"
      ]
     },
     "metadata": {
      "needs_background": "light"
     },
     "output_type": "display_data"
    }
   ],
   "source": [
    "calibration_plot(classifier, X_test, Y_test)"
   ]
  },
  {
   "cell_type": "markdown",
   "metadata": {},
   "source": [
    "**3.5** We might say a model is *over-confident* if the freshness fraction is usually closer to 0.5 than expected (that is, there is more uncertainty than the model predicted). Likewise, a model is *under-confident* if the probabilities are usually further away from 0.5. Is this model generally over- or under-confident? "
   ]
  },
  {
   "cell_type": "markdown",
   "metadata": {},
   "source": [
    "**Answer** This model is over-confident. For a properly calibrated model, we would expect ~10% of the P(Fresh)~0.1 reviews to actually be fresh. However, the actual freshness rate is closer to 30%. Likewise, for reviews where P(Fresh) ~0.9, the actuall freshness fraction is closer to 0.7. In other words, there is more uncertainty in the outcome than implied by the model."
   ]
  },
  {
   "cell_type": "markdown",
   "metadata": {},
   "source": [
    "#### Cross Validation\n",
    "\n",
    "Our classifier has a few free parameters. The two most important are:\n",
    "\n",
    " 1. The `min_df` keyword in `CountVectorizer`, which will ignore words which appear in fewer than `min_df` fraction of reviews. Words that appear only once or twice can lead to overfitting, since words which occur only a few times might correlate very well with Fresh/Rotten reviews by chance in the training dataset.\n",
    " \n",
    " 2. The [`alpha` keyword](http://scikit-learn.org/stable/modules/naive_bayes.html#multinomial-naive-bayes) in the Bayesian classifier is a \"smoothing parameter\" -- increasing the value decreases the sensitivity to any single feature, and tends to pull prediction probabilities closer to 50%. \n",
    "\n",
    "As discussed in lecture and HW2, a common technique for choosing appropriate values for these parameters is **cross-validation**. Let's choose good parameters by maximizing the cross-validated log-likelihood.\n",
    "\n",
    "**3.6** Using `clf.predict_log_proba`, write a function that computes the log-likelihood of a dataset"
   ]
  },
  {
   "cell_type": "code",
   "execution_count": 34,
   "metadata": {},
   "outputs": [],
   "source": [
    "\"\"\"\n",
    "Function\n",
    "--------\n",
    "log_likelihood\n",
    "\n",
    "Compute the log likelihood of a dataset according to a bayesian classifier. \n",
    "The Log Likelihood is defined by\n",
    "\n",
    "L = Sum_fresh(logP(fresh)) + Sum_rotten(logP(rotten))\n",
    "\n",
    "Where Sum_fresh indicates a sum over all fresh reviews, \n",
    "and Sum_rotten indicates a sum over rotten reviews\n",
    "    \n",
    "Parameters\n",
    "----------\n",
    "clf : Bayesian classifier\n",
    "x : (nexample, nfeature) array\n",
    "    The input data\n",
    "y : (nexample) integer array\n",
    "    Whether each review is Fresh\n",
    "\"\"\"\n",
    "def log_likelihood(clf, x, y):\n",
    "    prob = clf.predict_log_proba(x)\n",
    "    rotten = np.array(y) == 0\n",
    "    fresh = ~rotten\n",
    "    return sum(prob[rotten, 0])+ sum(prob[fresh, 1])"
   ]
  },
  {
   "cell_type": "markdown",
   "metadata": {},
   "source": [
    "Here's a function to estimate the cross-validated value of a scoring function, given a classifier and data"
   ]
  },
  {
   "cell_type": "code",
   "execution_count": 35,
   "metadata": {},
   "outputs": [],
   "source": [
    "from sklearn.model_selection import KFold\n",
    "\n",
    "def cv_score(clf, x, y, score_func):\n",
    "    \"\"\"\n",
    "    Uses 5-fold cross validation to estimate a score of a classifier\n",
    "    \n",
    "    Inputs\n",
    "    ------\n",
    "    clf : Classifier object\n",
    "    x : Input feature vector\n",
    "    y : Input class labels\n",
    "    score_func : Function like log_likelihood, that takes (clf, x, y) as input,\n",
    "                 and returns a score\n",
    "                 \n",
    "    Returns\n",
    "    -------\n",
    "    The average score obtained by randomly splitting (x, y) into training and \n",
    "    test sets, fitting on the training set, and evaluating score_func on the test set\n",
    "    \n",
    "    Examples\n",
    "    cv_score(clf, x, y, log_likelihood)\n",
    "    \"\"\"\n",
    "    result = 0\n",
    "    nfold = 5\n",
    "    for train, test in KFold(nfold, True).split(y): # split data into train/test groups, 5 times\n",
    "        clf.fit(x[train], y[train]) # fit\n",
    "        result += score_func(clf, x[test], y[test]) # evaluate score function on held-out data\n",
    "    return result / nfold # average\n",
    "\n",
    "# as a side note, this function is builtin to the newest version of sklearn. We could just write\n",
    "# sklearn.cross_validation.cross_val_score(clf, x, y, scorer=log_likelihood)."
   ]
  },
  {
   "cell_type": "markdown",
   "metadata": {},
   "source": [
    "**3.7**\n",
    "\n",
    "Fill in the remaining code in this block, to loop over many values of `alpha` and `min_df` to determine\n",
    "which settings are \"best\" in the sense of maximizing the cross-validated log-likelihood"
   ]
  },
  {
   "cell_type": "markdown",
   "metadata": {},
   "source": [
    "**Below code will take awhile, give your computer some privacy ;)**"
   ]
  },
  {
   "cell_type": "code",
   "execution_count": 36,
   "metadata": {},
   "outputs": [
    {
     "name": "stdout",
     "output_type": "stream",
     "text": [
      "1e-10 1e-05\n",
      "1e-10 0.0001\n",
      "1e-10 0.001\n",
      "1e-10 0.01\n",
      "1e-10 0.1\n",
      "0.1 1e-05\n",
      "0.1 0.0001\n",
      "0.1 0.001\n",
      "0.1 0.01\n",
      "0.1 0.1\n",
      "1 1e-05\n",
      "1 0.0001\n",
      "1 0.001\n",
      "1 0.01\n",
      "1 0.1\n",
      "5 1e-05\n",
      "5 0.0001\n",
      "5 0.001\n",
      "5 0.01\n",
      "5 0.1\n",
      "10 1e-05\n",
      "10 0.0001\n",
      "10 0.001\n",
      "10 0.01\n",
      "10 0.1\n",
      "50 1e-05\n",
      "50 0.0001\n",
      "50 0.001\n",
      "50 0.01\n",
      "50 0.1\n"
     ]
    }
   ],
   "source": [
    "#the grid of parameters to search over\n",
    "alphas = [1.0e-10, 0.1, 1, 5, 10, 50]\n",
    "min_dfs = [1e-5, 1e-4, 1e-3, 1e-2, 1e-1]\n",
    "\n",
    "#Find the best value for alpha and min_df, and the best classifier\n",
    "best_alpha = None\n",
    "best_min_df = None\n",
    "max_loglike = -np.inf\n",
    "\n",
    "for alpha in alphas:\n",
    "    for min_df in min_dfs:         \n",
    "        vectorizer = CountVectorizer(min_df = min_df)       \n",
    "        X, Y = make_xy(critics, vectorizer)\n",
    "        print(alpha, min_df)\n",
    "        #your code here\n",
    "        clf = MultinomialNB(alpha = alpha)\n",
    "        logLike = cv_score(clf, np.array(X), np.array(Y), log_likelihood)\n",
    "        if(logLike > max_loglike):\n",
    "            max_loglike = logLike\n",
    "            best_min_df = min_df\n",
    "            best_alpha = alpha"
   ]
  },
  {
   "cell_type": "code",
   "execution_count": 37,
   "metadata": {},
   "outputs": [
    {
     "name": "stdout",
     "output_type": "stream",
     "text": [
      "max_loglike: -2192.685533\n",
      "alpha: 5.000000\n",
      "min_df: 0.000100\n"
     ]
    }
   ],
   "source": [
    "print(\"max_loglike: %f\" %max_loglike)\n",
    "print(\"alpha: %f\" %best_alpha)\n",
    "print(\"min_df: %f\" %best_min_df)"
   ]
  },
  {
   "cell_type": "markdown",
   "metadata": {},
   "source": [
    "**3.8** Now that you've determined values for alpha and min_df that optimize the cross-validated log-likelihood, repeat the steps in 3.1, 3.2, and 3.4 to train a final classifier with these parameters, re-evaluate the accuracy, and draw a new calibration plot."
   ]
  },
  {
   "cell_type": "code",
   "execution_count": 38,
   "metadata": {
    "scrolled": false
   },
   "outputs": [
    {
     "data": {
      "image/png": "[encoded data removed]",
      "text/plain": [
       "<Figure size 432x288 with 1 Axes>"
      ]
     },
     "metadata": {
      "needs_background": "light"
     },
     "output_type": "display_data"
    },
    {
     "data": {
      "image/png": "[encoded data removed]",
      "text/plain": [
       "<Figure size 432x288 with 1 Axes>"
      ]
     },
     "metadata": {
      "needs_background": "light"
     },
     "output_type": "display_data"
    },
    {
     "name": "stdout",
     "output_type": "stream",
     "text": [
      "Test Score 0.7571916138469039\n",
      "Train Score 0.8331200097519351\n"
     ]
    }
   ],
   "source": [
    "vectorizer = CountVectorizer(min_df = best_min_df)\n",
    "X, Y = make_xy(critics, vectorizer)\n",
    "clf = MultinomialNB(alpha = best_alpha)\n",
    "X_train, X_test, Y_train, Y_test = train_test_split(X, Y, test_size = 0.2)\n",
    "clf.fit(X_train, Y_train)\n",
    "calibration_plot(clf, X_test, Y_test)\n",
    "print(\"Test Score\", clf.score(X_test, Y_test))\n",
    "print(\"Train Score\", clf.score(X_train, Y_train))"
   ]
  },
  {
   "cell_type": "markdown",
   "metadata": {},
   "source": [
    "**3.9** Discuss the various ways in which Cross-Validation has affected the model. Is the new model more or less accurate? Is overfitting better or worse? Is the model more or less calibrated?"
   ]
  },
  {
   "cell_type": "markdown",
   "metadata": {},
   "source": [
    "**Answer** The new model is slightly less accurate on the test data (74% vs 77% on the original model). However, it is both better calibrated and less over-fit than before. In other words, while the classification accuracy is slightly worse, the probabilities themselves are more accurate. The model is still slightly over-confident when making low P(Fresh) predictions. However, the calibration plot shows the model is usually within 1 error bar of the expected performance where P(Fresh) >= 0.2. Finally, the new model makes less-conclusive predictions on average -- the histogram in the calibration plot is more uniformly distributed, with fewer predictions clustered around P(Fresh) = 0 or 1.\n",
    "\n",
    "To think about/play with, but not to hand in: What would happen if you tried this again using a function besides the log-likelihood -- for example, the classification accuracy?"
   ]
  },
  {
   "cell_type": "markdown",
   "metadata": {},
   "source": [
    "*To think about/play with, but not to hand in: What would happen if you tried this again using a function besides the log-likelihood -- for example, the classification accuracy?*"
   ]
  },
  {
   "cell_type": "markdown",
   "metadata": {},
   "source": [
    "## Part 4: Interpretation. What words best predict a fresh or rotten review?\n",
    "\n",
    "**4.1**\n",
    "Using your classifier and the `vectorizer.get_feature_names` method, determine which words best predict a positive or negative review. Print the 10 words\n",
    "that best predict a \"fresh\" review, and the 10 words that best predict a \"rotten\" review. For each word, what is the model's probability of freshness if the word appears one time?\n",
    "\n",
    "#### Hints\n",
    "\n",
    "* Try computing the classification probability for a feature vector which consists of all 0s, except for a single 1. What does this probability refer to?\n",
    "\n",
    "* `np.eye` generates a matrix where the ith row is all 0s, except for the ith column which is 1."
   ]
  },
  {
   "cell_type": "code",
   "execution_count": 39,
   "metadata": {
    "scrolled": true
   },
   "outputs": [
    {
     "name": "stdout",
     "output_type": "stream",
     "text": [
      "Good words\t     P(fresh | word)\n",
      "             delight 0.93\n",
      "         masterpiece 0.92\n",
      "       extraordinary 0.90\n",
      "         brilliantly 0.90\n",
      "            touching 0.90\n",
      "            captures 0.89\n",
      "         intelligent 0.89\n",
      "        irresistible 0.88\n",
      "                rare 0.88\n",
      "            stunning 0.88\n",
      "Bad words\t     P(fresh | word)\n",
      "             muddled 0.21\n",
      "             tedious 0.20\n",
      "      disappointment 0.19\n",
      "            tiresome 0.19\n",
      "             unfunny 0.18\n",
      "              stupid 0.17\n",
      "           pointless 0.17\n",
      "          uninspired 0.15\n",
      "                lame 0.13\n",
      "       unfortunately 0.13\n"
     ]
    }
   ],
   "source": [
    "words = vectorizer.get_feature_names()\n",
    "words = np.array(words)\n",
    "\n",
    "x = np.eye(X_test.shape[1])\n",
    "probs = clf.predict_log_proba(x)[:,0]\n",
    "ind = np.argsort(probs)\n",
    "\n",
    "good_words = words[ind[:10]]\n",
    "bad_words = words[ind[-10:]]\n",
    "\n",
    "good_prob = probs[ind[:10]]\n",
    "bad_prob = probs[ind[-10:]]\n",
    "\n",
    "print(\"Good words\\t     P(fresh | word)\")\n",
    "for w, p in zip(good_words, good_prob):\n",
    "    print(\"%20s\" % w, \"%0.2f\" % (1 - np.exp(p)))\n",
    "    \n",
    "print(\"Bad words\\t     P(fresh | word)\")\n",
    "for w, p in zip(bad_words, bad_prob):\n",
    "    print(\"%20s\" % w, \"%0.2f\" % (1 - np.exp(p)))"
   ]
  },
  {
   "cell_type": "markdown",
   "metadata": {},
   "source": [
    "**4.2**\n",
    "\n",
    "One of the best sources for inspiration when trying to improve a model is to look at examples where the model performs poorly. \n",
    "\n",
    "Find 5 fresh and rotten reviews where your model performs particularly poorly. Print each review."
   ]
  },
  {
   "cell_type": "code",
   "execution_count": 73,
   "metadata": {
    "scrolled": true
   },
   "outputs": [
    {
     "name": "stdout",
     "output_type": "stream",
     "text": [
      "Mis-predicted Rotten quotes\n",
      "---------------------------\n",
      "Two murders and a third attempt are among the most vicious I have ever seen in films, with Hitchcock employing his considerable skill in direction and cutting and in the use of sound and music to shock us past horror-entertainment into resentment.\n",
      "\n",
      "While Ford is a solid blend of thought and action in his James Bondish role, and his need to protect his family gives the film some gripping moments, the film's moral viewpoint is strictly neanderthal.\n",
      "\n",
      "Robert De Niro is reliably dynamic, and Joe Pesci's portrait of a gangster with a sense of humour is hideously memorable, but there's no doubt that GoodFellas fights a losing battle against numbness.\n",
      "\n",
      "It survives today only as an unusually pure example of a typical 50s art-film strategy: the attempt to make the most modern and most popular of art forms acceptable to the intelligentsia by forcing it into an arcane, antique mold.\n",
      "\n",
      "Compared with Potter's bold, beautiful, original, and witty first feature, The Gold Diggers, this is safe, crowd-flattering stuff, the Driving Miss Daisy of art pictures -- a film with practically no ideas at all, but lots of fancy trimmings.\n",
      "\n",
      "Mis-predicted Fresh quotes\n",
      "--------------------------\n",
      "As the plot kicks in, the hysteria mounts and the explanations start coming, the tension starts to dissipate. Like Bacon's strenuous attempt to sound working class, the movie tries too hard.\n",
      "\n",
      "The usually reliable director Michael Caton-Jones hasn't a clue how to freshen up such stale material. If you bite your fingernails, it will only be from boredom.\n",
      "\n",
      "It isn't without some zip, though you have to wonder why the producers bothered when the censors demanded that the dancers be shown only from the neck up.\n",
      "\n",
      "The movie haunts you like a ballad whose tune you remember but whose words hang just beyond reach. And like listening to a ballad, we know the outcome of the events we're watching was foretold long ago, but we're helpless to do anything but surrender.\n",
      "\n",
      "Like Iceland itself, Cold Fever may seem a trip most audiences initially will reject -- as too distant, too strange, too icebound. They're wrong. Once seen, this cold, feverish wonderland is never forgotten.\n",
      "\n"
     ]
    }
   ],
   "source": [
    "prob = clf.predict_proba(X)[:, 0]\n",
    "\n",
    "bad_rotten = np.argsort(prob[np.array(Y) == 0])[:5]\n",
    "bad_fresh = np.argsort(prob[np.array(Y) == 1])[-5:]\n",
    "\n",
    "print(\"Mis-predicted Rotten quotes\")\n",
    "print('---------------------------')\n",
    "for row in bad_rotten:\n",
    "    print(critics[np.array(Y) == 0]['quote'].iloc[row])\n",
    "    print()\n",
    "\n",
    "print(\"Mis-predicted Fresh quotes\")\n",
    "print('--------------------------')\n",
    "for row in bad_fresh:\n",
    "    print(critics[np.array(Y) == 1]['quote'].iloc[row])\n",
    "    print()"
   ]
  },
  {
   "cell_type": "code",
   "execution_count": 6,
   "metadata": {},
   "outputs": [],
   "source": [
    "import pickle\n",
    "filename = 'movieReviewsClf.pickle'\n",
    "#pickle.dump(clf, open(filename, 'wb'))\n",
    " \n",
    "# some time later...\n",
    " \n",
    "# load the model from disk\n",
    "sentimental_analysis = pickle.load(open(filename, 'rb'))\n",
    "#result = sentimental_analysis.score(X_test, Y_test)\n",
    "#print(\"Test Accuracy: \", result)"
   ]
  },
  {
   "cell_type": "code",
   "execution_count": 7,
   "metadata": {},
   "outputs": [
    {
     "name": "stdout",
     "output_type": "stream",
     "text": [
      "Probability:  [[0.06197868 0.93802132]]\n"
     ]
    }
   ],
   "source": [
    "filename = 'wordVectorizer.pickle'\n",
    "#pickle.dump(vectorizer, open(filename, 'wb'))\n",
    "\n",
    "movies_vectorizer = pickle.load(open(filename, 'rb'))\n",
    "print(\"Probability: \", sentimental_analysis.predict_proba(movies_vectorizer.transform([\"Movie is delight\"])))"
   ]
  },
  {
   "cell_type": "code",
   "execution_count": 15,
   "metadata": {},
   "outputs": [
    {
     "name": "stdout",
     "output_type": "stream",
     "text": [
      "Probability:  [[0.55333968 0.44666032]]\n"
     ]
    }
   ],
   "source": [
    "print(\"Probability: \", sentimental_analysis.predict_proba(movies_vectorizer.transform([\"disaster\"])))"
   ]
  },
  {
   "cell_type": "markdown",
   "metadata": {},
   "source": [
    "**4.3** What do you notice about these mis-predictions? Naive Bayes classifiers assume that every word affects the probability independently of other words. In what way is this a bad assumption? In your answer, report your classifier's Freshness probability for the review \"This movie is not remarkable, touching, or superb in any way\"."
   ]
  },
  {
   "cell_type": "code",
   "execution_count": 16,
   "metadata": {
    "scrolled": true
   },
   "outputs": [
    {
     "name": "stdout",
     "output_type": "stream",
     "text": [
      "Probability:  [[0.00697308 0.99302692]]\n"
     ]
    }
   ],
   "source": [
    "print(\"Probability: \", sentimental_analysis.predict_proba(movies_vectorizer.transform([\"This movie is not remarkable, touching, or superb in any way\"])))"
   ]
  },
  {
   "cell_type": "markdown",
   "metadata": {},
   "source": [
    "**Answer** Many mis-predictions seem due to the fact that the quotes use more ambivalent language -- quotes along the lines of \"this should have been a good movie, but it wasn't\". Words like \"but\", \"not\", etc. act to negate the sentiment of words. However, because Naive Bayes treats each word separately, it isn't able to capture these kind of word interactions. Because the quote \"this movie is not remarkable, touching, or superb in any way\" contains typically positive words like remarkabke/touching/superb, the classifier gives it P(Fresh)=0.98."
   ]
  },
  {
   "cell_type": "markdown",
   "metadata": {},
   "source": [
    "There are many things worth trying. Some examples:\n",
    "\n",
    "* You could try to build a NB model where the features are word pairs instead of words. This would be smart enough to realize that \"not good\" and \"so good\" mean very different things. This technique doesn't scale very well, since these features are much more sparse (and hence harder to detect repeatable patterns within).\n",
    "* You could try a model besides NB, that would allow for interactions between words -- for example, a Random Forest classifier.\n",
    "* You could consider adding supplemental features -- information about genre, director, cast, etc.\n",
    "* You could build a visualization that prints word reviews, and visually encodes each word with size or color to indicate how that word contributes to P(Fresh). For example, really bad words could show up as big and red, good words as big and green, common words as small and grey, etc."
   ]
  }
 ],
 "metadata": {
  "kernelspec": {
   "display_name": "Python 3",
   "language": "python",
   "name": "python3"
  },
  "language_info": {
   "codemirror_mode": {
    "name": "ipython",
    "version": 3
   },
   "file_extension": ".py",
   "mimetype": "text/x-python",
   "name": "python",
   "nbconvert_exporter": "python",
   "pygments_lexer": "ipython3",
   "version": "3.7.3"
  }
 },
 "nbformat": 4,
 "nbformat_minor": 1
}
